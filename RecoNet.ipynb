{
  "nbformat": 4,
  "nbformat_minor": 0,
  "metadata": {
    "colab": {
      "name": "RecoNet",
      "provenance": [],
      "collapsed_sections": [],
      "authorship_tag": "ABX9TyNsxEEeU6yAs8sOQ1hbSwZb",
      "include_colab_link": true
    },
    "kernelspec": {
      "name": "python3",
      "display_name": "Python 3"
    },
    "accelerator": "GPU"
  },
  "cells": [
    {
      "cell_type": "markdown",
      "metadata": {
        "id": "view-in-github",
        "colab_type": "text"
      },
      "source": [
        "<a href=\"https://colab.research.google.com/github/shanyaanand/RecoNet/blob/master/RecoNet.ipynb\" target=\"_parent\"><img src=\"https://colab.research.google.com/assets/colab-badge.svg\" alt=\"Open In Colab\"/></a>"
      ]
    },
    {
      "cell_type": "markdown",
      "metadata": {
        "id": "XRs8EC2KB7q0",
        "colab_type": "text"
      },
      "source": [
        "# Upload Data"
      ]
    },
    {
      "cell_type": "code",
      "metadata": {
        "id": "-d7QrJvJZ24i",
        "colab_type": "code",
        "colab": {}
      },
      "source": [
        "from google.colab import files\n",
        "files.upload()"
      ],
      "execution_count": 0,
      "outputs": []
    },
    {
      "cell_type": "code",
      "metadata": {
        "id": "q-4ISqtrj72L",
        "colab_type": "code",
        "colab": {}
      },
      "source": [
        "import torch\n",
        "import matplotlib.pyplot as plt\n",
        "import torch.nn as nn\n",
        "from torch.autograd import Variable\n",
        "import torch.optim as optim\n",
        "from sklearn.model_selection import train_test_split\n",
        "import torch.nn.functional as F\n",
        "import pandas as pd \n",
        "import numpy as np\n",
        "from sklearn.metrics import recall_score\n",
        "from torch.utils.data import Dataset"
      ],
      "execution_count": 0,
      "outputs": []
    },
    {
      "cell_type": "markdown",
      "metadata": {
        "id": "zQzB5UP9CGyK",
        "colab_type": "text"
      },
      "source": [
        "# Utils"
      ]
    },
    {
      "cell_type": "code",
      "metadata": {
        "id": "fdT7pDEGR0gn",
        "colab_type": "code",
        "colab": {}
      },
      "source": [
        "\"\"\"\n",
        "utils functions\n",
        "\"\"\"\n",
        "def adjust_learning_rate(optimizer, lr, lr_decay):\n",
        "\n",
        "    for group in optimizer.param_groups:\n",
        "        if 'step' not in group:\n",
        "            group['step'] = 0\n",
        "        group['step'] += 1\n",
        "\n",
        "        group['lr'] = lr / (1 + group['step'] * lr_decay)\n",
        "\n",
        "\n",
        "def create_optimizer(model, new_lr, opt, lr_decay, wd):\n",
        "    # setup optimizer\n",
        "    if opt == 'sgd':\n",
        "        optimizer = optim.SGD(model.parameters(), lr=new_lr,\n",
        "                              momentum=0.9, dampening=0.9,\n",
        "                              weight_decay=args.wd)\n",
        "    elif opt == 'adam':\n",
        "        optimizer = optim.Adam(model.parameters(), lr=new_lr,\n",
        "                               weight_decay=wd)\n",
        "    elif opt == 'adagrad':\n",
        "        optimizer = optim.Adagrad(model.parameters(),\n",
        "                                  lr=new_lr,\n",
        "                                  lr_decay=lr_decay,\n",
        "                                  weight_decay=wd)\n",
        "    return optimizer\n",
        "\n",
        "\n",
        "def Filtering(ratings, movies, threshold = 50):\n",
        "    \"\"\"\n",
        "      Args : \n",
        "        input : rating = np array of user rating of dimension N X 4, where N is the number of users and columns are user id, movie id, star, timestamp. \n",
        "                movies = np array of user rating of dimension N X 3, where N is the number of movies and columns are movie id, movie name, movie genre\n",
        "                threshold = for removing data below threshold value\n",
        "        output : a list containing two np array(rating and movie)\n",
        "        Ops : downsampling \n",
        "    \"\"\"\n",
        "    count = {} \n",
        "    for i in ratings:\n",
        "        key = i[1]\n",
        "        if key in count:\n",
        "            count[key] +=1\n",
        "        else:\n",
        "            count[key] = 1\n",
        "\n",
        "    fast = {}\n",
        "    for i in movies:\n",
        "        key = i[0]\n",
        "        fast[key] = i\n",
        "\n",
        "    Train_data = []\n",
        "    Test_data = []\n",
        "    append = {}\n",
        "    genres = []\n",
        "    for i in ratings:\n",
        "        key = i[1]\n",
        "        if count[key] > threshold:\n",
        "            if key in append:\n",
        "                if np.random.rand() >= 0.33:\n",
        "                  Train_data.append(i)\n",
        "                else:\n",
        "                  Test_data.append(i)\n",
        "\n",
        "            else:\n",
        "                append[key] = 1\n",
        "                Train_data.append(i)\n",
        "                genres.append(fast[key])\n",
        "\n",
        "    temp = indxing(Train_data, Test_data, genres, movie_genre)\n",
        "    return temp\n",
        "\n",
        "def indxing(Train_list, Test_list, genres_list, movie_genre):\n",
        "    \"\"\"\n",
        "        movie id in the dataset contains gap in between, thus this function map gap id to ungap id \n",
        "    \"\"\"\n",
        "    feature_name = {}\n",
        "    m_index = {}\n",
        "    for i in range(len(genres_list)):\n",
        "        m_index[genres_list[i][0]] = i + 1\n",
        "        feature_name[i+1] = genres_list[i][1]\n",
        "    m = i + 2\n",
        "    j = 0\n",
        "    for key in movie_genre:\n",
        "        feature_name[m + j] =key\n",
        "        j+=1\n",
        "    feature_name[m+j] = 'Others'    \n",
        "    train_data = []\n",
        "    for i in Train_list:\n",
        "        temp = i\n",
        "        temp[1] = m_index[i[1]]\n",
        "        train_data.append(temp)\n",
        "\n",
        "    test_data = []\n",
        "    for i in Test_list:\n",
        "        temp = i\n",
        "        temp[1] = m_index[i[1]]\n",
        "        test_data.append(temp)\n",
        "\n",
        "    movie = []\n",
        "    for i in range(len(genres_list)):\n",
        "        temp = genres_list[i]\n",
        "        temp[0] = m_index[genres_list[i][0]]\n",
        "        movie.append(temp) \n",
        "\n",
        "    return [np.array(train_data), np.array(test_data), np.array(movie), feature_name]\n",
        "\n",
        "def R_l(W, a, l):\n",
        "\tif l == 0:\n",
        "\t\treturn np.dot(a[0], W[0])\n",
        "\telse:\n",
        "\t\teps = 1e-8\n",
        "\t\tz_k = np.dot(W[l], a[l + 1])\n",
        "\t\ts_k = np.divide(R_l(W, a, l-1), z_k)\n",
        "\t\tc_j = np.dot(s_k, W[l])\n",
        "\t\tR = np.multiply(a[l + 1], c_j)\n",
        "\t\treturn R\n",
        "\n"
      ],
      "execution_count": 0,
      "outputs": []
    },
    {
      "cell_type": "markdown",
      "metadata": {
        "id": "ehnZ4LcoCLho",
        "colab_type": "text"
      },
      "source": [
        "# Data Read"
      ]
    },
    {
      "cell_type": "code",
      "metadata": {
        "id": "2qlYs_9NjYlo",
        "colab_type": "code",
        "outputId": "9575b126-81fc-4cf3-d52f-b7056df192fa",
        "colab": {
          "base_uri": "https://localhost:8080/",
          "height": 119
        }
      },
      "source": [
        "\n",
        "movie_genre = {\"Action\" : 1, \n",
        "    \"Adventure\" : 2,\n",
        "    \"Animation\" : 3,\n",
        "    \"Children\" : 4,\n",
        "    \"Comedy\" : 5,\n",
        "    \"Crime\" : 6,\n",
        "    \"Documentary\" : 7,\n",
        "    \"Drama\" : 8,\n",
        "    \"Fantasy\" : 9,\n",
        "    \"Film-Noir\" : 10, \n",
        "    \"Horror\" : 11,\n",
        "    \"Musical\" : 12,\n",
        "    \"Mystery\" : 13,\n",
        "    \"Romance\" : 14,\n",
        "    \"Sci-Fi\" : 15,\n",
        "    \"Thriller\" : 16,\n",
        "    \"War\" : 17,\n",
        "    \"Western\" : 18\n",
        "  }\n",
        "a = pd.read_csv(\"ratings.csv\")\n",
        "print(a.head())"
      ],
      "execution_count": 4,
      "outputs": [
        {
          "output_type": "stream",
          "text": [
            "   userId  movieId  rating  timestamp\n",
            "0       1        1     4.0  964982703\n",
            "1       1        3     4.0  964981247\n",
            "2       1        6     4.0  964982224\n",
            "3       1       47     5.0  964983815\n",
            "4       1       50     5.0  964982931\n"
          ],
          "name": "stdout"
        }
      ]
    },
    {
      "cell_type": "code",
      "metadata": {
        "id": "lB89Dvg32azH",
        "colab_type": "code",
        "outputId": "2a2de297-284b-4a93-dbe5-69271943a898",
        "colab": {
          "base_uri": "https://localhost:8080/",
          "height": 153
        }
      },
      "source": [
        "b = pd.read_csv(\"movies.csv\")\n",
        "print(b.head())"
      ],
      "execution_count": 5,
      "outputs": [
        {
          "output_type": "stream",
          "text": [
            "   movieId  ...                                       genres\n",
            "0        1  ...  Adventure|Animation|Children|Comedy|Fantasy\n",
            "1        2  ...                   Adventure|Children|Fantasy\n",
            "2        3  ...                               Comedy|Romance\n",
            "3        4  ...                         Comedy|Drama|Romance\n",
            "4        5  ...                                       Comedy\n",
            "\n",
            "[5 rows x 3 columns]\n"
          ],
          "name": "stdout"
        }
      ]
    },
    {
      "cell_type": "code",
      "metadata": {
        "id": "jLXgIyrI1sqi",
        "colab_type": "code",
        "colab": {}
      },
      "source": [
        "rating = np.array(a.values)\n",
        "genres = np.array(b.values)\n",
        "temp = Filtering(rating, genres)\n",
        "TrainData, TestData, genres, feature_name = temp[0], temp[1], temp[2], temp[3]"
      ],
      "execution_count": 0,
      "outputs": []
    },
    {
      "cell_type": "markdown",
      "metadata": {
        "id": "_sMV_aDwB4Jw",
        "colab_type": "text"
      },
      "source": [
        "# Model"
      ]
    },
    {
      "cell_type": "code",
      "metadata": {
        "id": "FOBgwDowVsiE",
        "colab_type": "code",
        "colab": {}
      },
      "source": [
        "class Emdedding(nn.Module):\n",
        "\tdef __init__(self, hidden_size, input_size, output_size):\n",
        "\t\tsuper(Emdedding, self).__init__()\n",
        "\t\tself.lookup = nn.Linear(input_size, hidden_size,bias=False)\n",
        "\t\tself.prediction = nn.Linear(hidden_size, output_size, bias=False)\n",
        "\t\tself.relu = nn.ReLU()\n",
        "\t\tself.BN = nn.BatchNorm1d(hidden_size)\n",
        "\t\tself.Drop = nn.Dropout(0.33)\n",
        "\tdef forward(self, x):\n",
        "\n",
        "\t\t# x_aux = self.Drop(self.relu(self.BN(self.lookup(x)))) # uncomment this line for incorporating BN and dropout\n",
        "\t\tx_aux = (self.lookup(x))\\\n",
        "\t\t\t/torch.abs(x.sum(-1).view(x.size()[0], 1) + 1e-8*torch.ones([x.size()[0], 1]).cuda())\n",
        "\t\tx = (self.prediction(x_aux))\n",
        "\t\treturn x, x_aux\n"
      ],
      "execution_count": 0,
      "outputs": []
    },
    {
      "cell_type": "markdown",
      "metadata": {
        "id": "g_50dcIOB0pK",
        "colab_type": "text"
      },
      "source": [
        "# Dataloader"
      ]
    },
    {
      "cell_type": "code",
      "metadata": {
        "id": "PDTzXqoNjNav",
        "colab_type": "code",
        "colab": {}
      },
      "source": [
        "\n",
        "class dataloader(Dataset):\n",
        "\t\n",
        "\tdef __init__(self, rating_list, genres_list, movie_genre, mode = \"Train\"):\n",
        "\t\t\"\"\"\n",
        "\t\t\tArgs : numpy array of rating, numpy array of movies, dict. of movie genre to integer, mode of operation\n",
        "\t\t\"\"\"\n",
        "\t\tself.rating_list = rating_list\n",
        "\t\tself.genres_list = genres_list\n",
        "\t\tself.movie_genre = movie_genre\n",
        "\t\tself.length = rating_list.shape[0]\n",
        "\t\tself.n_users = len(np.unique(rating_list[:, 0]))# number of unique users\n",
        "\t\tself.n_movies = len(genres_list)# number of movies\n",
        "\t\tself.n_attr = len(movie_genre) + 1# number of features\n",
        "\t\tself.un_user = np.unique(rating_list[:, 0])\n",
        "\n",
        "\tdef UserData(self, user):\n",
        "\t\t\"\"\"\n",
        "\t\t\tArgs : user id \n",
        "\t\t\tOutput : input vector(as mention in the paper) of dimension = #movies * #features\n",
        "\t\t\"\"\"\n",
        "\t\tphi_v = [0]*self.n_attr# attributes feature\n",
        "\t\tVv = [0]*self.n_movies# movies feature\n",
        "\t\tidx = np.where(self.rating_list[:, 0] == user)[0]\n",
        "\t\tmovies = self.rating_list[idx, 1]# list of movies he/she rated\n",
        "\t\tstars = self.rating_list[idx, 2]\n",
        "\t\tfor k in range(len(movies)):\n",
        "\t\t\tmovie = movies[k]\n",
        "\t\t\tstar = stars[k]\n",
        "\t\t\tif star >= 0.0:\n",
        "\t\t\t\tVv[int(movie) - 1] += 1 #  movie is 1 index\n",
        "\t\t\tx = np.where(self.genres_list[:, 0] == movie)[0]\n",
        "\t\t\tstrings = self.genres_list[x, 2][0].split(\"|\")\n",
        "\t\t\tfor string in strings:\n",
        "\t\t\t\tif string in self.movie_genre:\n",
        "\t\t\t\t\tphi_v[self.movie_genre[string] - 1] = 1 # movie_genre is 1 index\n",
        "\t\t\t\telse:\n",
        "\t\t\t\t\tphi_v[18] = 1\n",
        "\n",
        "\t\treturn np.concatenate((Vv, phi_v), axis=0)\n",
        "\n",
        "\tdef __len__(self):\n",
        "\t\treturn self.length\n",
        "\t\n",
        "\tdef __getitem__(self, idx):\n",
        "\n",
        "\t\tX = self.UserData(self.rating_list[idx, 0])\n",
        "\t\ty = [int(self.rating_list[idx, 1] - 1)]# remove the movie\n",
        "\t\t#remove features of the movie\n",
        "\t\t# w = np.where(self.genres_list[:, 0]== self.rating_list[idx, 1])[0]\n",
        "\t\tw = self.rating_list[idx, 1] - 1\n",
        "\t\tstrings = self.genres_list[int(w), 2].split(\"|\")\t\n",
        "\t\tfor string in strings:\n",
        "\t\t\tif string in self.movie_genre:\n",
        "\t\t\t\tt = self.movie_genre[string] - 20\n",
        "\t\t\t\tX[t] -= 1\n",
        "\t\t\telse:\n",
        "\t\t\t\tX[-1] -= 1\n",
        "\t\tX[y] = 0\n",
        "\t\tsample = {'data' : torch.Tensor(X), 'label' : torch.Tensor(y)}\n",
        "\t\treturn sample\n"
      ],
      "execution_count": 0,
      "outputs": []
    },
    {
      "cell_type": "code",
      "metadata": {
        "id": "d5HvIbDijKeW",
        "colab_type": "code",
        "outputId": "f43442f4-df81-4d1c-a7ea-e763a827a6f9",
        "colab": {
          "base_uri": "https://localhost:8080/",
          "height": 51
        }
      },
      "source": [
        "kwargs = {'num_workers': 8, 'pin_memory': True} \n",
        "print(\"number of training data {} nummber of users {} number of movies {}\".format(len(TrainData), len(np.unique(TrainData[:, 0])), len(np.unique(TrainData[:, 1]))))\n",
        "print(\"number of testing data {} nummber of users {} number of movies {}\".format(len(TestData), len(np.unique(TestData[:, 0])), len(np.unique(TestData[:, 1]))))\n",
        "TrainLoader = dataloader(TrainData, genres, movie_genre)\n",
        "TestLoader = dataloader(TestData, genres, movie_genre) \t \t"
      ],
      "execution_count": 9,
      "outputs": [
        {
          "output_type": "stream",
          "text": [
            "number of training data 27376 nummber of users 606 number of movies 436\n",
            "number of testing data 13284 nummber of users 597 number of movies 436\n"
          ],
          "name": "stdout"
        }
      ]
    },
    {
      "cell_type": "markdown",
      "metadata": {
        "id": "sHInkTFHByVk",
        "colab_type": "text"
      },
      "source": [
        "# Main"
      ]
    },
    {
      "cell_type": "code",
      "metadata": {
        "id": "-3LlZltJi6mx",
        "colab_type": "code",
        "outputId": "394f1103-04b0-4d2b-f85e-991b911e43ac",
        "colab": {
          "base_uri": "https://localhost:8080/",
          "height": 972
        }
      },
      "source": [
        "net = Emdedding(1024, len(genres)+len(movie_genre)+1, len(genres))\n",
        "net.cuda()\n",
        "batch_size = 64*4\n",
        "epoch = 10\n",
        "lr = 0.01\n",
        "lr_decay = 0.01\n",
        "wt_decay = 0.0\n",
        "best_recall = 0\n",
        "# optimizer = create_optimizer(net, lr, \"adagrad\", lr_decay, wt_decay)\n",
        "optimizer = create_optimizer(net, lr, \"adam\", lr_decay, wt_decay)\n",
        "criterion = nn.CrossEntropyLoss()\n",
        "metric_test = []\n",
        "metric_train = []\n",
        "TrainSample = torch.utils.data.DataLoader(TrainLoader, batch_size= batch_size, shuffle=True)\n",
        "TestSample = torch.utils.data.DataLoader(TestLoader, batch_size= batch_size, shuffle=False)\n",
        "\n",
        "print(\"starting training!\")\n",
        "for n_epoch in range(epoch):\n",
        "\terror = 0\n",
        "\tlabels = []\n",
        "\tlogits = []\n",
        "\tcount = 0\n",
        "\tnet.eval()\n",
        "\tfor i, batch in enumerate(TestSample):\n",
        "\t\tX = Variable(batch['data'].cuda())\n",
        "\t\ty = Variable(torch.squeeze(batch['label']).long().cuda())\n",
        "\t\ty_pred, h = net(X)\n",
        "\t\tloss = criterion(y_pred, y)\n",
        "\t\tcount+=1\n",
        "\t\terror += loss.cpu().detach().numpy()\n",
        "\t\tlabels += list(y.cpu().detach().numpy())\n",
        "\t\tlogits += list(np.argmax(F.log_softmax(y_pred, 1).cpu().detach().numpy(), axis=1))\n",
        "\trecall = recall_score(labels, logits, average='micro')\n",
        "\tmetric_test.append([n_epoch, error/count, recall])\n",
        "\tif recall > best_recall:\n",
        "\t\tprint(\"saving\")\n",
        "\t\ttorch.save({'epoch': n_epoch + 1, 'state_dict': net.state_dict()},'model.pth')\n",
        "\t\tbest_recall = recall \n",
        "\tprint(\"Test : epoch {} loss {} recall {}\".format(n_epoch, error/count, recall))\n",
        "\n",
        "\t#---------------------------------------------------------------------------------------#\n",
        "\terror = 0\n",
        "\tcount = 0\n",
        "\tlabels = []\n",
        "\tlogits = []\n",
        "\tnet.train()\n",
        "\tfor i, batch in enumerate(TrainSample):\n",
        "\t\tX = Variable(batch['data'].cuda())\n",
        "\t\ty = Variable(torch.squeeze(batch['label']).long().cuda())\n",
        "\t\ty_pred, h = net(X)\n",
        "\t\toptimizer.zero_grad()\n",
        "\t\tloss = criterion(y_pred, y)\n",
        "\t\tloss.backward()\n",
        "\t\toptimizer.step()\n",
        "\t\tcount +=1\n",
        "\t\terror += loss.cpu().detach().numpy()\n",
        "\t\tlabels += list(y.cpu().detach().numpy())\n",
        "\t\tlogits += list(np.argmax(F.log_softmax(y_pred, 1).cpu().detach().numpy(), axis=1))\n",
        "\tadjust_learning_rate(optimizer, lr, lr_decay)\n",
        "\trecall = recall_score(labels, logits, average='micro')\n",
        "\tmetric_train.append([n_epoch, error/count, recall])\n",
        "\n",
        "\tprint(\"Train : epoch {} loss {} recall {}\".format(n_epoch, error/count, recall))\n",
        "metric_train = np.array(metric_train)\n",
        "metric_test = np.array(metric_test)\n",
        "plt.plot(metric_train[:, 0], metric_train[:, 1], label=\"Train-Loss\")\n",
        "plt.plot(metric_test[:, 0], metric_test[:, 1], label=\"Test-Loss\")\n",
        "plt.legend(loc='upper left')                \n",
        "plt.show()\n",
        "plt.plot(metric_train[:, 0], metric_train[:, 2], label=\"Train-Recall\")\n",
        "plt.plot(metric_test[:, 0], metric_test[:, 2], label=\"Test-Recall\")\n",
        "plt.legend(loc='upper left')                \n",
        "plt.show()"
      ],
      "execution_count": 19,
      "outputs": [
        {
          "output_type": "stream",
          "text": [
            "starting training!\n",
            "saving\n",
            "Test : epoch 0 loss 6.077684558354891 recall 0.0015808491418247517\n",
            "Train : epoch 0 loss 5.2949396694932025 recall 0.05329485680888369\n",
            "saving\n",
            "Test : epoch 1 loss 4.19303483229417 recall 0.17660343270099368\n",
            "Train : epoch 1 loss 3.3776238811350314 recall 0.30077440093512564\n",
            "saving\n",
            "Test : epoch 2 loss 3.41477992442938 recall 0.3243751881963264\n",
            "Train : epoch 2 loss 2.3281865097651973 recall 0.4632159555815313\n",
            "saving\n",
            "Test : epoch 3 loss 3.437301356058854 recall 0.3696175850647395\n",
            "Train : epoch 3 loss 1.8129113946005562 recall 0.5580800701344243\n",
            "saving\n",
            "Test : epoch 4 loss 3.842890496437366 recall 0.371875940981632\n",
            "Train : epoch 4 loss 1.4629603524074377 recall 0.6320134424313267\n",
            "saving\n",
            "Test : epoch 5 loss 4.176113169926864 recall 0.3787262872628726\n",
            "Train : epoch 5 loss 1.2140719133002735 recall 0.6925774400935125\n",
            "Test : epoch 6 loss 4.685773542294135 recall 0.37563986750978623\n",
            "Train : epoch 6 loss 1.0005915332063335 recall 0.7577074810052601\n",
            "Test : epoch 7 loss 5.1958617980663595 recall 0.3725534477566998\n",
            "Train : epoch 7 loss 0.8337530399037298 recall 0.8078974284044419\n",
            "Test : epoch 8 loss 5.723089236479539 recall 0.36728395061728397\n",
            "Train : epoch 8 loss 0.6833144565609014 recall 0.8647720631209819\n",
            "Test : epoch 9 loss 6.286606866579789 recall 0.3642728093947606\n",
            "Train : epoch 9 loss 0.5690010323702732 recall 0.9065970192869667\n"
          ],
          "name": "stdout"
        },
        {
          "output_type": "display_data",
          "data": {
            "image/png": "[encoded data removed]",
            "text/plain": [
              "<Figure size 432x288 with 1 Axes>"
            ]
          },
          "metadata": {
            "tags": [],
            "needs_background": "light"
          }
        },
        {
          "output_type": "display_data",
          "data": {
            "image/png": "[encoded data removed]",
            "text/plain": [
              "<Figure size 432x288 with 1 Axes>"
            ]
          },
          "metadata": {
            "tags": [],
            "needs_background": "light"
          }
        }
      ]
    },
    {
      "cell_type": "markdown",
      "metadata": {
        "id": "tFH_wpGVBuoC",
        "colab_type": "text"
      },
      "source": [
        "# Model Relevance "
      ]
    },
    {
      "cell_type": "code",
      "metadata": {
        "id": "oAgVSaGu-04C",
        "colab_type": "code",
        "colab": {
          "base_uri": "https://localhost:8080/",
          "height": 289
        },
        "outputId": "403e2897-324b-428d-baad-e2e70af0c72d"
      },
      "source": [
        "W = []\n",
        "i = 0\n",
        "\n",
        "for param in net.parameters():\n",
        "\tif i < 2:\n",
        "\t\tW.append(param.cpu().detach().numpy())\n",
        "\ti+=1\n",
        "W = W[::-1]\n",
        "\n",
        "for n_epoch in range(1):\n",
        "\tnet.eval()\n",
        "\tfor i, batch in enumerate(TestSample):\n",
        "\t\tX = Variable(batch['data']).cuda()\n",
        "\t\ty = Variable(torch.squeeze(batch['label']).long()).cuda()\n",
        "\t\ty_pred, h = net(X)\n",
        "\t\tfor j in range(h.size()[0]):\n",
        "\n",
        "\t\t\ta = []\n",
        "\t\t\to = np.zeros([y_pred.size()[1]])\n",
        "\t\t\ttemp = list(np.argmax(F.log_softmax(y_pred, 1).cpu().detach().numpy(), axis=1)) \n",
        "\t\t\to[temp[j]] = 1.0\n",
        "\t\t\thd = h.cpu().detach().numpy()\n",
        "\t\t\tip = X.cpu().detach().numpy()\n",
        "\t\t\ta.append(o)\n",
        "\t\t\ta.append(hd[j, :])\n",
        "\t\t\ta.append(ip[j, :])\n",
        "\t\t\trl = R_l(W, a, 1)\n",
        "\t\t\tpos = np.where((rl > 0))[0]\n",
        "\t\t\tneg = np.where((rl < 0))[0]\n",
        "\t\t\tprint(\"******************************************************************************\")\n",
        "\t\t\tprint(\"Target movies : \", feature_name[temp[j] + 1])\n",
        "\t\t\tprint(\"Positive features are ===> \")\n",
        "\t\t\tfor p in pos:\n",
        "\t\t\t  print(feature_name[p + 1])\n",
        "\t\t\tprint(\"Negative features are ===> \")\n",
        "\t\t\tfor n in neg:\n",
        "\t\t\t  print(feature_name[n + 1])"
      ],
      "execution_count": 18,
      "outputs": [
        {
          "output_type": "stream",
          "text": [
            "******************************************************************************\n",
            "Target movies :  Casper (1995)\n",
            "Positive features are ===> \n",
            "Fargo (1996)\n",
            "Indiana Jones and the Last Crusade (1989)\n",
            "Grosse Pointe Blank (1997)\n",
            "Run Lola Run (Lola rennt) (1998)\n",
            "Comedy\n",
            "Crime\n",
            "Negative features are ===> \n",
            "L.A. Confidential (1997)\n",
            "Being John Malkovich (1999)\n",
            "Drama\n",
            "Fantasy\n",
            "Film-Noir\n",
            "Romance\n"
          ],
          "name": "stdout"
        }
      ]
    }
  ]
}